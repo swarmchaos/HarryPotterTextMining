{
 "cells": [
  {
   "cell_type": "code",
   "execution_count": 42,
   "metadata": {},
   "outputs": [],
   "source": [
    "from gensim.test.utils import common_texts\n",
    "from gensim.models.doc2vec import Doc2Vec, TaggedDocument\n",
    "from sklearn.metrics import accuracy_score, f1_score\n",
    "from sklearn.model_selection import train_test_split\n",
    "from sklearn.linear_model import LogisticRegression\n",
    "from sklearn.svm import SVC\n",
    "from sklearn import utils\n",
    "from sklearn.metrics import confusion_matrix, precision_recall_fscore_support\n",
    "\n",
    "import csv\n",
    "from tqdm import tqdm\n",
    "import multiprocessing\n",
    "\n",
    "import numpy as np\n",
    "\n",
    "import seaborn as sn\n",
    "import pandas as pd\n",
    "import matplotlib.pyplot as plt\n",
    "\n",
    "import copy\n",
    "import json\n",
    "import re\n",
    "import pandas as pd\n",
    "import spacy\n",
    "\n",
    "import nltk\n",
    "from nltk.corpus import stopwords\n",
    "stop_words = stopwords.words('english')\n",
    "stop_words.extend(['from', 'subject', 're', 'edu', 'use'])\n",
    "nlp = spacy.load('en', disable=['parser', 'ner'])\n",
    "\n",
    "tqdm.pandas(desc=\"progress-bar\")\n",
    "labeled_data = '../data/labeled_data.csv'"
   ]
  },
  {
   "cell_type": "code",
   "execution_count": 31,
   "metadata": {},
   "outputs": [],
   "source": [
    "# Function for tokenizing\n",
    "def sent_prep(text):\n",
    "    preprocessed_sentences = []\n",
    "    for sent in nltk.sent_tokenize(text):\n",
    "        sentence = re.sub(r'\\s+', ' ', sent)  # remove newline chars\n",
    "        sentence = re.sub(r'\\\"', '', sentence)  # remove single quotes\n",
    "        sentence = re.sub(r\"\\'\", '', sentence)  # remove single quotes\n",
    "        sentence = re.sub(r\"\\*\", '', sentence) \n",
    "        preprocessed_sentences.append(sentence)\n",
    "    return preprocessed_sentences\n",
    "\n",
    "\n",
    "# Read CSV file\n",
    "# Associating the tags(labels) with numbers\n",
    "def read_csv():\n",
    "    event = []\n",
    "    no_event = []\n",
    "    with open(labeled_data, 'r',  encoding=\"utf8\") as csvfile:\n",
    "    #with open('data/tagged_plots_movielens.csv', 'r') as csvfile:\n",
    "        text_reader = csv.reader(csvfile, delimiter=',', quotechar='\"')\n",
    "        for row_no, row in enumerate(text_reader):\n",
    "            if row_no == 0:\n",
    "                continue\n",
    "            if row[1] == \"1\":\n",
    "                event.append(row[0])\n",
    "            elif row[1] == \"0\":\n",
    "                no_event.append(row[0])\n",
    "    return event, no_event\n",
    "\n",
    "\n",
    "def lemmatization(texts, allowed_postags=['NOUN', 'ADJ', 'VERB', 'ADV', 'PROPN']):\n",
    "    \"\"\"https://spacy.io/api/annotation\"\"\"\n",
    "    texts_out = []\n",
    "    for sent in texts:\n",
    "        doc = nlp(sent) \n",
    "        texts_out.append(' '.join([token.lemma_ for token in doc if token.pos_ in allowed_postags]))\n",
    "    return texts_out\n",
    "\n",
    "\n",
    "def word_tokenize(text):\n",
    "    tokens = []\n",
    "    for sent in text:\n",
    "        for word in nltk.word_tokenize(sent):\n",
    "            if len(word) < 2 or word in stop_words:\n",
    "                continue\n",
    "            tokens.append(word)\n",
    "    return tokens\n",
    "    \n",
    "\n",
    "def preprocess_text(text):\n",
    "    sents = sent_prep(text)\n",
    "    lemmatized = lemmatization(sents)\n",
    "    tokens = word_tokenize(lemmatized)\n",
    "    return tokens\n",
    "\n",
    "\n",
    "def vector_for_learning(model, input_docs):\n",
    "    sents = input_docs\n",
    "    targets, feature_vectors = zip(*[(doc.tags[0], model.infer_vector(doc.words, steps=20)) for doc in sents])\n",
    "    return targets, feature_vectors\n",
    "    "
   ]
  },
  {
   "cell_type": "code",
   "execution_count": 32,
   "metadata": {},
   "outputs": [],
   "source": [
    "events, no_events = read_csv()\n",
    "events_prep, no_events_prep = [], []\n",
    "for event in events:\n",
    "    events_prep.append(preprocess_text(event))\n",
    "for text in no_events:\n",
    "    no_events_prep.append(preprocess_text(text))"
   ]
  },
  {
   "cell_type": "code",
   "execution_count": 33,
   "metadata": {},
   "outputs": [
    {
     "name": "stdout",
     "output_type": "stream",
     "text": [
      "40\n",
      "12\n"
     ]
    }
   ],
   "source": [
    "train_events, test_events, train_label_ev, test_label_ev = train_test_split(events_prep, np.ones(len(events_prep)), train_size=0.8, test_size=0.2, random_state=42)\n",
    "train_no_events, test_no_events, train_label_no_ev, test_label_no_ev = train_test_split(no_events_prep, np.ones(len(no_events_prep)), train_size=0.8, test_size=0.2, random_state=42)\n",
    "\n",
    "train_docs = []\n",
    "test_docs = []\n",
    "for text in train_events:\n",
    "    train_docs.append( TaggedDocument(words=text, tags=[1] ))\n",
    "for text in test_events:\n",
    "    test_docs.append( TaggedDocument(words=text, tags=[1]))                \n",
    "for text in train_no_events:\n",
    "    train_docs.append( TaggedDocument(words=text, tags=[0] ))\n",
    "for text in test_no_events:\n",
    "    test_docs.append( TaggedDocument(words=text, tags=[0]))\n",
    "\n",
    "print(len(train_docs))\n",
    "print(len(test_docs))"
   ]
  },
  {
   "cell_type": "code",
   "execution_count": 34,
   "metadata": {},
   "outputs": [
    {
     "name": "stderr",
     "output_type": "stream",
     "text": [
      "100%|██████████| 40/40 [00:00<00:00, 35298.16it/s]\n"
     ]
    }
   ],
   "source": [
    "cores = multiprocessing.cpu_count()\n",
    "\n",
    "model_dbow = Doc2Vec(\n",
    "    dm=1, \n",
    "    vector_size=50, \n",
    "    negative=5, hs=0, \n",
    "    min_count=2, \n",
    "    sample = 0, \n",
    "    workers=cores, \n",
    "    alpha=0.025, \n",
    "    min_alpha=0.001)\n",
    "model_dbow.build_vocab([x for x in tqdm(train_docs)])\n",
    "\n",
    "train_documents  = utils.shuffle(train_docs)\n",
    "model_dbow.train(train_documents,total_examples=len(train_documents), epochs=100)\n",
    "model_dbow.save('../data/bowModel.d2v')"
   ]
  },
  {
   "cell_type": "code",
   "execution_count": 36,
   "metadata": {},
   "outputs": [
    {
     "name": "stdout",
     "output_type": "stream",
     "text": [
      "[LibLinear]Testing logreg accuracy events in HP: 0.75\n",
      "Testing logreg F1 score for events in HP: 0.7447552447552447\n",
      "Testing svm accuracy events in HP: 0.5833333333333334\n",
      "Testing svm F1 score for events in HP: 0.530812324929972\n",
      "<function confusion_matrix at 0x7f65a4c00378>\n",
      "(0.84375, 0.75, 0.7447552447552447, None)\n"
     ]
    },
    {
     "data": {
      "image/png": "[encoded data removed]",
      "text/plain": [
       "<Figure size 432x288 with 2 Axes>"
      ]
     },
     "metadata": {
      "needs_background": "light"
     },
     "output_type": "display_data"
    },
    {
     "name": "stdout",
     "output_type": "stream",
     "text": [
      "<function confusion_matrix at 0x7f65a4c00378>\n",
      "(0.5583333333333333, 0.5833333333333334, 0.530812324929972, None)\n"
     ]
    },
    {
     "data": {
      "image/png": "[encoded data removed]",
      "text/plain": [
       "<Figure size 432x288 with 2 Axes>"
      ]
     },
     "metadata": {
      "needs_background": "light"
     },
     "output_type": "display_data"
    }
   ],
   "source": [
    "y_train, X_train = vector_for_learning(model_dbow, train_documents)\n",
    "y_test, X_test = vector_for_learning(model_dbow, test_docs)\n",
    "\n",
    "logreg = LogisticRegression(penalty='l1', n_jobs=1, verbose=True, solver='liblinear')\n",
    "svm = SVC(probability=True, shrinking=False, random_state=42, gamma='auto')\n",
    "svm.fit(X_train, y_train)\n",
    "logreg.fit(X_train, y_train)\n",
    "y_pred = logreg.predict(X_test)\n",
    "y_pred_svm = svm.predict(X_test)\n",
    "print(f'Testing logreg accuracy events in HP: {accuracy_score(y_test, y_pred)}')\n",
    "print(f'Testing logreg F1 score for events in HP: {f1_score(y_test, y_pred, average=\"weighted\")}')\n",
    "\n",
    "print(f'Testing svm accuracy events in HP: {accuracy_score(y_test, y_pred_svm)}')\n",
    "print(f'Testing svm F1 score for events in HP: {f1_score(y_test, y_pred_svm, average=\"weighted\")}')\n",
    "\n",
    "      \n",
    "confusion_mat = confusion_matrix(y_test, y_pred)\n",
    "print(confusion_matrix)\n",
    "\n",
    "print(precision_recall_fscore_support(y_test, y_pred, average='weighted'))\n",
    "\n",
    "labels = ['True', 'False']\n",
    "fig = plt.figure()\n",
    "ax = fig.add_subplot(111)\n",
    "cax = ax.matshow(confusion_mat)\n",
    "fig.colorbar(cax)\n",
    "ax.set_xticklabels([''] + labels)\n",
    "ax.set_yticklabels([''] + labels)\n",
    "plt.show()\n",
    "      \n",
    "confusion_mat_svm = confusion_matrix(y_test, y_pred_svm)\n",
    "print(confusion_matrix)\n",
    "\n",
    "print(precision_recall_fscore_support(y_test, y_pred_svm, average='weighted'))\n",
    "\n",
    "labels = ['True', 'False']\n",
    "fig = plt.figure()\n",
    "ax = fig.add_subplot(111)\n",
    "cax = ax.matshow(confusion_mat_svm)\n",
    "fig.colorbar(cax)\n",
    "ax.set_xticklabels([''] + labels)\n",
    "ax.set_yticklabels([''] + labels)\n",
    "plt.show()"
   ]
  },
  {
   "cell_type": "code",
   "execution_count": 41,
   "metadata": {},
   "outputs": [],
   "source": [
    "dict_all_predictions = {}\n",
    "with open('../data/chapters/chapter_numbers.json') as chapter_numerated:\n",
    "    chapter_numbers = json.load(chapter_numerated)\n",
    "\n",
    "chapter_preds = {}\n",
    "chapter_preprocessed = {}\n",
    "with open('../data/chapters/chapter_paragraphs_unmerged.json', 'r',  encoding=\"utf8\") as json_f:\n",
    "    chapter_dict = json.load(json_f)\n",
    "    for chapter, paragraphs in chapter_dict.items():\n",
    "        ypreds = []\n",
    "        ypreds_svm = []\n",
    "        for par in paragraphs:\n",
    "            preprocessed_par = preprocess_text(par)\n",
    "            _, X_test = vector_for_learning(model_dbow, [TaggedDocument(words=preprocessed_par, tags=[-1])])\n",
    "            ypreds.append(str(logreg.predict(X_test)[0]))\n",
    "            ypreds_svm.append(str(svm.predict(X_test)[0]))\n",
    "        chapter_preds[chapter] = {'text': paragraphs, 'class_logreg:': ypreds, 'class_svm':ypreds_svm}\n",
    "        \n",
    "with open('../data/events/predicted_events.json', 'w+') as outfile:  \n",
    "    outfile.write(json.dumps(chapter_preds, indent=2))"
   ]
  },
  {
   "cell_type": "code",
   "execution_count": 79,
   "metadata": {},
   "outputs": [],
   "source": [
    "with open('../data/events/predicted_events.json') as ev_json:\n",
    "    events = json.load(ev_json)\n",
    "final_events = pd.DataFrame(columns=['chapter_no', 'chapter_name', 'event_text'])\n",
    "for chapter, sub_dict in events.items():\n",
    "    values_logreg = sub_dict['class_logreg:']\n",
    "    values_svm = sub_dict['class_svm']\n",
    "    texts = sub_dict['text']\n",
    "    events_per_col = {'chapter_no': chapter_numbers[chapter], 'chapter_name':chapter}\n",
    "    event_texts = []\n",
    "    for i in range(len(values_svm)):\n",
    "        if values_svm[i] == values_logreg[i] == '1':\n",
    "            event_texts.append(texts[i])\n",
    "    events_per_col['event_text'] = event_texts\n",
    "    final_events = final_events.append(events_per_col, ignore_index=True)\n",
    "\n",
    "final_events = final_events.set_index(['chapter_no']).sort_index()\n",
    "final_events.to_csv('../data/events/final_events.csv')"
   ]
  }
 ],
 "metadata": {
  "kernelspec": {
   "display_name": "Python 3",
   "language": "python",
   "name": "python3"
  },
  "language_info": {
   "codemirror_mode": {
    "name": "ipython",
    "version": 3
   },
   "file_extension": ".py",
   "mimetype": "text/x-python",
   "name": "python",
   "nbconvert_exporter": "python",
   "pygments_lexer": "ipython3",
   "version": "3.7.3"
  }
 },
 "nbformat": 4,
 "nbformat_minor": 2
}
